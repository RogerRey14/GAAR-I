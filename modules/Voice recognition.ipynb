{
 "cells": [
  {
   "cell_type": "code",
   "execution_count": 25,
   "metadata": {},
   "outputs": [],
   "source": [
    "#Instalar SpeechRecognition: pip install SpeechRecognition\n",
    "#Instalar PyAudio: (linux) pip install pyaudio (&) sudo apt-get install python3.7-dev \n",
    "                #(windows) pip install pipwin (&) pipwin install pyaudio\n",
    "    \n",
    "#Realizamos el import de speech_recognition como sr\n",
    "\n",
    "import speech_recognition as sr"
   ]
  },
  {
   "cell_type": "code",
   "execution_count": 30,
   "metadata": {},
   "outputs": [
    {
     "name": "stdout",
     "output_type": "stream",
     "text": [
      "GAAR-I le escucha : \n",
      "Disculpa, no se le escucha\n"
     ]
    }
   ],
   "source": [
    "#Asignamos el objeto Recognizer a r\n",
    "\n",
    "r = sr.Recognizer() \n",
    "\n",
    "#Utilizamos el objeto Microphone para escuchar el audio\n",
    "#Utilizamos el bloque try-catch para convertir el audio en texto.\n",
    "\n",
    "with sr.Microphone() as source:\n",
    "    print('GAAR-I le escucha : ')\n",
    "    audio = r.listen(source)\n",
    " \n",
    "    try:\n",
    "        text = r.recognize_google(audio, language=\"es-ES\")\n",
    "        print('Ha dicho: {}'.format(text))\n",
    "    except:\n",
    "        print('Disculpa, no se le escucha')"
   ]
  },
  {
   "cell_type": "code",
   "execution_count": null,
   "metadata": {},
   "outputs": [],
   "source": []
  },
  {
   "cell_type": "code",
   "execution_count": null,
   "metadata": {},
   "outputs": [],
   "source": []
  }
 ],
 "metadata": {
  "kernelspec": {
   "display_name": "Python 3",
   "language": "python",
   "name": "python3"
  },
  "language_info": {
   "codemirror_mode": {
    "name": "ipython",
    "version": 3
   },
   "file_extension": ".py",
   "mimetype": "text/x-python",
   "name": "python",
   "nbconvert_exporter": "python",
   "pygments_lexer": "ipython3",
   "version": "3.7.4"
  }
 },
 "nbformat": 4,
 "nbformat_minor": 4
}
