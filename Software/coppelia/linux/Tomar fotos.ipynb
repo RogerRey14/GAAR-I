{
 "cells": [
  {
   "cell_type": "code",
   "execution_count": 112,
   "id": "integrated-computer",
   "metadata": {},
   "outputs": [],
   "source": [
    "import sim\n",
    "import numpy as np\n",
    "import math\n",
    "import time\n",
    "import matplotlib.pyplot as plt # pyplot\n",
    "import cv2                      # opencv\n"
   ]
  },
  {
   "cell_type": "code",
   "execution_count": 113,
   "id": "controversial-morris",
   "metadata": {},
   "outputs": [
    {
     "name": "stdout",
     "output_type": "stream",
     "text": [
      "conectado a 19999\n"
     ]
    }
   ],
   "source": [
    "def connect(port):\n",
    "    sim.simxFinish(-1)\n",
    "    clientID=sim.simxStart('127.0.0.1',port,True,True,2000,5) # Conectarse\n",
    "    if clientID == 0: print(\"conectado a\", port)\n",
    "    else: print(\"no se pudo conectar\")\n",
    "    return clientID\n",
    "clientID = connect(19999)\n",
    "ret,joint1=sim.simxGetObjectHandle(clientID,'Joint1',sim.simx_opmode_blocking)\n",
    "ret,joint2=sim.simxGetObjectHandle(clientID,'Joint2',sim.simx_opmode_blocking)\n",
    "ret,joint3=sim.simxGetObjectHandle(clientID,'Joint3',sim.simx_opmode_blocking)\n",
    "ret,joint4=sim.simxGetObjectHandle(clientID,'Joint4',sim.simx_opmode_blocking)\n",
    "ret,joint5=sim.simxGetObjectHandle(clientID,'Joint5',sim.simx_opmode_blocking)\n",
    "ret,camara=sim.simxGetObjectHandle(clientID,'camara',sim.simx_opmode_blocking)\n",
    "n=0"
   ]
  },
  {
   "cell_type": "code",
   "execution_count": 121,
   "id": "forbidden-procurement",
   "metadata": {},
   "outputs": [],
   "source": [
    "returnCode = sim.simxSetJointTargetPosition(clientID, joint1, 0, sim.simx_opmode_oneshot)\n",
    "returnCode = sim.simxSetJointTargetPosition(clientID, joint2, 0, sim.simx_opmode_oneshot)\n",
    "returnCode = sim.simxSetJointTargetPosition(clientID, joint3, np.pi/2, sim.simx_opmode_oneshot)\n",
    "returnCode = sim.simxSetJointTargetPosition(clientID, joint4, -np.pi/2, sim.simx_opmode_oneshot)\n",
    "returnCode = sim.simxSetJointTargetPosition(clientID, joint5, 0, sim.simx_opmode_oneshot)\n",
    "time.sleep(1)\n",
    "for i in np.arange(0, 2*np.pi, 0.2):\n",
    "    returnCode = sim.simxSetJointTargetPosition(clientID, joint5, i, sim.simx_opmode_oneshot)\n",
    "    retCode, resolution, image=sim.simxGetVisionSensorImage(clientID,camara,0,sim.simx_opmode_oneshot_wait)\n",
    "    img=np.array(image,dtype=np.uint8)\n",
    "    img.resize([resolution[1],resolution[0],3])\n",
    "    cv2.imwrite('img/image'+str(n)+'.jpg', img)\n",
    "    n += 1\n",
    "    time.sleep(0.2)"
   ]
  },
  {
   "cell_type": "code",
   "execution_count": 115,
   "id": "contrary-prototype",
   "metadata": {},
   "outputs": [],
   "source": [
    "returnCode = sim.simxSetJointTargetPosition(clientID, joint1, 0, sim.simx_opmode_oneshot)\n",
    "returnCode = sim.simxSetJointTargetPosition(clientID, joint2, np.pi/2.5, sim.simx_opmode_oneshot)\n",
    "returnCode = sim.simxSetJointTargetPosition(clientID, joint3, 0.2, sim.simx_opmode_oneshot)\n",
    "returnCode = sim.simxSetJointTargetPosition(clientID, joint4, -0.95, sim.simx_opmode_oneshot)\n",
    "returnCode = sim.simxSetJointTargetPosition(clientID, joint5, 0, sim.simx_opmode_oneshot)\n",
    "time.sleep(1)\n",
    "time.sleep(1)\n",
    "for i in np.arange(0, 2*np.pi, 0.2):\n",
    "    returnCode = sim.simxSetJointTargetPosition(clientID, joint5, i, sim.simx_opmode_oneshot)\n",
    "    retCode, resolution, image=sim.simxGetVisionSensorImage(clientID,camara,0,sim.simx_opmode_oneshot_wait)\n",
    "    img=np.array(image,dtype=np.uint8)\n",
    "    img.resize([resolution[1],resolution[0],3])\n",
    "    cv2.imwrite('img/image'+str(n)+'.jpg', img)\n",
    "    n += 1\n",
    "    time.sleep(0.2)"
   ]
  },
  {
   "cell_type": "code",
   "execution_count": 116,
   "id": "analyzed-helicopter",
   "metadata": {},
   "outputs": [],
   "source": [
    "returnCode = sim.simxSetJointTargetPosition(clientID, joint1, 0, sim.simx_opmode_oneshot)\n",
    "returnCode = sim.simxSetJointTargetPosition(clientID, joint2, 0, sim.simx_opmode_oneshot)\n",
    "returnCode = sim.simxSetJointTargetPosition(clientID, joint3, np.pi/1.2, sim.simx_opmode_oneshot)\n",
    "returnCode = sim.simxSetJointTargetPosition(clientID, joint4, -3.1, sim.simx_opmode_oneshot)\n",
    "returnCode = sim.simxSetJointTargetPosition(clientID, joint5, 0, sim.simx_opmode_oneshot)\n",
    "time.sleep(1)\n",
    "time.sleep(1)\n",
    "for i in np.arange(0, 2*np.pi, 0.2):\n",
    "    returnCode = sim.simxSetJointTargetPosition(clientID, joint5, i, sim.simx_opmode_oneshot)\n",
    "    retCode, resolution, image=sim.simxGetVisionSensorImage(clientID,camara,0,sim.simx_opmode_oneshot_wait)\n",
    "    img=np.array(image,dtype=np.uint8)\n",
    "    img.resize([resolution[1],resolution[0],3])\n",
    "    cv2.imwrite('img/image'+str(n)+'.jpg', img)\n",
    "    n += 1\n",
    "    time.sleep(0.2)"
   ]
  },
  {
   "cell_type": "code",
   "execution_count": 117,
   "id": "combined-quilt",
   "metadata": {},
   "outputs": [],
   "source": [
    "returnCode = sim.simxSetJointTargetPosition(clientID, joint1, 0.3, sim.simx_opmode_oneshot)\n",
    "returnCode = sim.simxSetJointTargetPosition(clientID, joint2, 0, sim.simx_opmode_oneshot)\n",
    "returnCode = sim.simxSetJointTargetPosition(clientID, joint3, 1, sim.simx_opmode_oneshot)\n",
    "returnCode = sim.simxSetJointTargetPosition(clientID, joint4, -1, sim.simx_opmode_oneshot)\n",
    "returnCode = sim.simxSetJointTargetPosition(clientID, joint5, 0, sim.simx_opmode_oneshot)\n",
    "time.sleep(1)\n",
    "for i in np.arange(0, 2*np.pi, 0.2):\n",
    "    returnCode = sim.simxSetJointTargetPosition(clientID, joint5, i, sim.simx_opmode_oneshot)\n",
    "    retCode, resolution, image=sim.simxGetVisionSensorImage(clientID,camara,0,sim.simx_opmode_oneshot_wait)\n",
    "    img=np.array(image,dtype=np.uint8)\n",
    "    img.resize([resolution[1],resolution[0],3])\n",
    "    cv2.imwrite('img/image'+str(n)+'.jpg', img)\n",
    "    n += 1\n",
    "    time.sleep(0.2)"
   ]
  },
  {
   "cell_type": "code",
   "execution_count": 118,
   "id": "existing-exemption",
   "metadata": {},
   "outputs": [],
   "source": [
    "returnCode = sim.simxSetJointTargetPosition(clientID, joint1, -0.3, sim.simx_opmode_oneshot)\n",
    "returnCode = sim.simxSetJointTargetPosition(clientID, joint2, 0, sim.simx_opmode_oneshot)\n",
    "returnCode = sim.simxSetJointTargetPosition(clientID, joint3, 1, sim.simx_opmode_oneshot)\n",
    "returnCode = sim.simxSetJointTargetPosition(clientID, joint4, -1, sim.simx_opmode_oneshot)\n",
    "returnCode = sim.simxSetJointTargetPosition(clientID, joint5, 0, sim.simx_opmode_oneshot)\n",
    "time.sleep(1)\n",
    "for i in np.arange(0, 2*np.pi, 0.2):\n",
    "    returnCode = sim.simxSetJointTargetPosition(clientID, joint5, i, sim.simx_opmode_oneshot)\n",
    "    retCode, resolution, image=sim.simxGetVisionSensorImage(clientID,camara,0,sim.simx_opmode_oneshot_wait)\n",
    "    img=np.array(image,dtype=np.uint8)\n",
    "    img.resize([resolution[1],resolution[0],3])\n",
    "    cv2.imwrite('img/image'+str(n)+'.jpg', img)\n",
    "    n += 1\n",
    "    time.sleep(0.2)"
   ]
  },
  {
   "cell_type": "code",
   "execution_count": null,
   "id": "located-youth",
   "metadata": {},
   "outputs": [],
   "source": []
  }
 ],
 "metadata": {
  "kernelspec": {
   "display_name": "Python 3",
   "language": "python",
   "name": "python3"
  },
  "language_info": {
   "codemirror_mode": {
    "name": "ipython",
    "version": 3
   },
   "file_extension": ".py",
   "mimetype": "text/x-python",
   "name": "python",
   "nbconvert_exporter": "python",
   "pygments_lexer": "ipython3",
   "version": "3.7.9"
  }
 },
 "nbformat": 4,
 "nbformat_minor": 5
}
