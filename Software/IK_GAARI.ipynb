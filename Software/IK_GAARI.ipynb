{
 "cells": [
  {
   "cell_type": "markdown",
   "id": "conscious-leadership",
   "metadata": {},
   "source": [
    "###  Librerias"
   ]
  },
  {
   "cell_type": "code",
   "execution_count": 424,
   "id": "treated-occupation",
   "metadata": {},
   "outputs": [],
   "source": [
    "import numpy as np\n",
    "import sympy as sp\n",
    "import math\n",
    "import sim\n",
    "import time\n",
    "import cv2\n",
    "import matplotlib.pyplot as plt\n",
    "from sympy import *"
   ]
  },
  {
   "cell_type": "markdown",
   "id": "heard-appraisal",
   "metadata": {},
   "source": [
    "### Inicialización\n",
    "Funciones y handelers y fijación de posición de encendido"
   ]
  },
  {
   "cell_type": "code",
   "execution_count": 425,
   "id": "concrete-prime",
   "metadata": {},
   "outputs": [
    {
     "name": "stdout",
     "output_type": "stream",
     "text": [
      "conectado a 19999\n"
     ]
    }
   ],
   "source": [
    "def connect(port):\n",
    "    sim.simxFinish(-1)\n",
    "    clientID=sim.simxStart('127.0.0.1',port,True,True,2000,5)\n",
    "    if clientID == 0: print(\"conectado a\", port)\n",
    "    else: print(\"no se pudo conectar\")\n",
    "    return clientID\n",
    "\n",
    "\n",
    "def gripper(val):\n",
    "    res,retInts,retFloats,retStrings,retBuffer=sim.simxCallScriptFunction(clientID,\n",
    "    \"ROBOTIQ_85\", sim.sim_scripttype_childscript,\"gripper\",[val],[],[],\"\", sim.simx_opmode_blocking)\n",
    "    return res\n",
    "\n",
    "\n",
    "# Controladores:\n",
    "clientID = connect(19999)\n",
    "retCode,grip=sim.simxGetObjectHandle(clientID,'ROBOTIQ_85',sim.simx_opmode_blocking)\n",
    "retCode,joint0=sim.simxGetObjectHandle(clientID,'Joint_0',sim.simx_opmode_blocking)\n",
    "retCode,joint1=sim.simxGetObjectHandle(clientID,'Joint_1',sim.simx_opmode_blocking)\n",
    "retCode,joint2=sim.simxGetObjectHandle(clientID,'Joint_2',sim.simx_opmode_blocking)\n",
    "retCode,joint3=sim.simxGetObjectHandle(clientID,'Joint_3',sim.simx_opmode_blocking)\n",
    "retCode,joint4=sim.simxGetObjectHandle(clientID,'Joint_4',sim.simx_opmode_blocking)\n",
    "[res, Robotiq]=sim.simxGetObjectHandle(clientID, 'ROBOTIQ_85_attachPoint', sim.simx_opmode_blocking);\n",
    "[res, tijeras]=sim.simxGetObjectHandle(clientID, 'Cuboid3', sim.simx_opmode_blocking);\n",
    "[res, bisturi]=sim.simxGetObjectHandle(clientID, 'Cuboid6', sim.simx_opmode_blocking);\n",
    "[res, jeringuilla]=sim.simxGetObjectHandle(clientID, 'Cuboid5', sim.simx_opmode_blocking);\n",
    "[res, pinza]=sim.simxGetObjectHandle(clientID, 'Cuboid4', sim.simx_opmode_blocking);\n",
    "retCode,camara=sim.simxGetObjectHandle(clientID,'Vision_sensor',sim.simx_opmode_blocking)\n",
    "retCode,cuboid0=sim.simxGetObjectHandle(clientID, 'Cuboid0', sim.simx_opmode_blocking);\n",
    "retCode,cuboid=sim.simxGetObjectHandle(clientID,'Cuboid',sim.simx_opmode_blocking)\n",
    "\n",
    "#Posicion encendido\n",
    "retCode = sim.simxSetJointTargetPosition(clientID, joint4, 0, sim.simx_opmode_oneshot)\n",
    "retCode = sim.simxSetJointTargetPosition(clientID, joint3, 0, sim.simx_opmode_oneshot)\n",
    "retCode = sim.simxSetJointTargetPosition(clientID, joint2, 0, sim.simx_opmode_oneshot)\n",
    "retCode = sim.simxSetJointTargetPosition(clientID, joint1, 0, sim.simx_opmode_oneshot)\n",
    "retCode = sim.simxSetJointTargetPosition(clientID, joint0, 0, sim.simx_opmode_oneshot)"
   ]
  },
  {
   "cell_type": "code",
   "execution_count": 426,
   "id": "retained-description",
   "metadata": {},
   "outputs": [],
   "source": [
    "def init_pos():\n",
    "    gripper(0)\n",
    "    retCode = sim.simxSetJointTargetPosition(clientID, joint4, -np.pi/8, sim.simx_opmode_oneshot)\n",
    "    retCode = sim.simxSetJointTargetPosition(clientID, joint3, 3*np.pi/4, sim.simx_opmode_oneshot)\n",
    "    retCode = sim.simxSetJointTargetPosition(clientID, joint2, np.pi/8, sim.simx_opmode_oneshot)\n",
    "    retCode = sim.simxSetJointTargetPosition(clientID, joint1, np.pi/8, sim.simx_opmode_oneshot)\n",
    "    retCode = sim.simxSetJointTargetPosition(clientID, joint0, -np.pi/8, sim.simx_opmode_oneshot)"
   ]
  },
  {
   "cell_type": "code",
   "execution_count": 427,
   "id": "social-article",
   "metadata": {},
   "outputs": [],
   "source": [
    "def inverse_kinematics(x, y, z, cabGrados, Axis5):\n",
    "    y -= 0.225\n",
    "    cabRAD=cabGrados*np.pi/180\n",
    "    Axis1=math.atan2(y, x)\n",
    "    M=math.sqrt(pow(x,2)+pow(y,2))\n",
    "    xprima=M\n",
    "    yprima=z\n",
    "\n",
    "    Afx=math.cos(cabRAD)*m\n",
    "    B=xprima-Afx\n",
    "    Afy=math.sin(cabRAD)*m\n",
    "    A=yprima+Afy-H;\n",
    "    Hip=math.sqrt(pow(A,2)+pow(B,2))\n",
    "    alfa=math.atan2(A,B)\n",
    "    beta=math.acos((pow(b,2)-pow(ab,2)+pow(Hip,2))/(2*b*Hip))\n",
    "    Axis2=alfa+beta\n",
    "    gamma=math.acos((pow(b,2)+pow(ab,2)-pow(Hip,2))/(2*b*ab))\n",
    "    Axis3=gamma\n",
    "    Axis4=2*np.pi-cabRAD-Axis2-Axis3\n",
    "\n",
    "    j0=Axis1*180/np.pi #joint0\n",
    "    j1=90-Axis2*180/np.pi #joint1\n",
    "    j2=180-Axis3*180/np.pi #joint2\n",
    "    j3=180-Axis4*180/np.pi #joint3\n",
    "    j4=Axis5 + j0#joint5  Se ha dado en grados inicialmente\n",
    "\n",
    "    return j0, j1, j2, j3, j4"
   ]
  },
  {
   "cell_type": "code",
   "execution_count": 428,
   "id": "collective-composer",
   "metadata": {},
   "outputs": [],
   "source": [
    "def close_grip(element):\n",
    "    gripper(1)\n",
    "    time.sleep(0.1)\n",
    "    returncode=sim.simxSetObjectParent(clientID, element,Robotiq, True, sim.simx_opmode_blocking);"
   ]
  },
  {
   "cell_type": "code",
   "execution_count": 429,
   "id": "nearby-bronze",
   "metadata": {},
   "outputs": [],
   "source": [
    "def open_grip(element):\n",
    "    returncode=sim.simxSetObjectParent(clientID, element,-1, False, sim.simx_opmode_blocking);\n",
    "    gripper(0)"
   ]
  },
  {
   "cell_type": "code",
   "execution_count": 430,
   "id": "increasing-husband",
   "metadata": {},
   "outputs": [],
   "source": [
    "def finish_pos():\n",
    "    retCode = sim.simxSetJointTargetPosition(clientID, joint0, -np.pi, sim.simx_opmode_oneshot)\n",
    "    time.sleep(0.4)\n",
    "    retCode = sim.simxSetJointTargetPosition(clientID, joint4, 0, sim.simx_opmode_oneshot)\n",
    "    retCode = sim.simxSetJointTargetPosition(clientID, joint3, 0, sim.simx_opmode_oneshot)\n",
    "    retCode = sim.simxSetJointTargetPosition(clientID, joint2, 0, sim.simx_opmode_oneshot)\n",
    "    retCode = sim.simxSetJointTargetPosition(clientID, joint1, np.pi/2, sim.simx_opmode_oneshot)\n"
   ]
  },
  {
   "cell_type": "code",
   "execution_count": 431,
   "id": "macro-collins",
   "metadata": {},
   "outputs": [],
   "source": [
    "#Medidas\n",
    "l1 = 0.955\n",
    "l2 = 0.3\n",
    "l3 = 0.3\n",
    "l4 = 0.26\n",
    "dTotal = 0.0757\n",
    "m = l4\n",
    "H = l1\n",
    "b = l2\n",
    "ab = l3"
   ]
  },
  {
   "cell_type": "markdown",
   "id": "grave-device",
   "metadata": {},
   "source": [
    "### Buscar tijeras"
   ]
  },
  {
   "cell_type": "code",
   "execution_count": 432,
   "id": "known-clark",
   "metadata": {},
   "outputs": [],
   "source": [
    "init_pos()"
   ]
  },
  {
   "cell_type": "code",
   "execution_count": 433,
   "id": "noticed-cannon",
   "metadata": {},
   "outputs": [],
   "source": [
    "j0, j1, j2, j3, j4 = inverse_kinematics(0.4, 0.225, 0.78, 90, 0)\n",
    "\n",
    "retCode = sim.simxSetJointTargetPosition(clientID, joint4, j4*np.pi/180, sim.simx_opmode_oneshot)\n",
    "retCode = sim.simxSetJointTargetPosition(clientID, joint3, j3*np.pi/180, sim.simx_opmode_oneshot)\n",
    "retCode = sim.simxSetJointTargetPosition(clientID, joint2, j2*np.pi/180, sim.simx_opmode_oneshot)\n",
    "retCode = sim.simxSetJointTargetPosition(clientID, joint1, j1*np.pi/180, sim.simx_opmode_oneshot)\n",
    "retCode = sim.simxSetJointTargetPosition(clientID, joint0, j0*np.pi/180, sim.simx_opmode_oneshot)"
   ]
  },
  {
   "cell_type": "code",
   "execution_count": 434,
   "id": "gothic-notion",
   "metadata": {},
   "outputs": [],
   "source": [
    "j0, j1, j2, j3, j4 = inverse_kinematics(0.4, 0.225, 0.705, 90, 0)\n",
    "\n",
    "retCode = sim.simxSetJointTargetPosition(clientID, joint4, j4*np.pi/180, sim.simx_opmode_oneshot)\n",
    "retCode = sim.simxSetJointTargetPosition(clientID, joint3, j3*np.pi/180, sim.simx_opmode_oneshot)\n",
    "retCode = sim.simxSetJointTargetPosition(clientID, joint2, j2*np.pi/180, sim.simx_opmode_oneshot)\n",
    "retCode = sim.simxSetJointTargetPosition(clientID, joint1, j1*np.pi/180, sim.simx_opmode_oneshot)\n",
    "retCode = sim.simxSetJointTargetPosition(clientID, joint0, j0*np.pi/180, sim.simx_opmode_oneshot)"
   ]
  },
  {
   "cell_type": "code",
   "execution_count": 435,
   "id": "written-tender",
   "metadata": {},
   "outputs": [],
   "source": [
    "close_grip(tijeras)"
   ]
  },
  {
   "cell_type": "code",
   "execution_count": 436,
   "id": "contrary-calgary",
   "metadata": {},
   "outputs": [],
   "source": [
    "j0, j1, j2, j3, j4 = inverse_kinematics(0.4, 0.225, 0.8, 90, 0)\n",
    "\n",
    "retCode = sim.simxSetJointTargetPosition(clientID, joint4, j4*np.pi/180, sim.simx_opmode_oneshot)\n",
    "retCode = sim.simxSetJointTargetPosition(clientID, joint3, j3*np.pi/180, sim.simx_opmode_oneshot)\n",
    "retCode = sim.simxSetJointTargetPosition(clientID, joint2, j2*np.pi/180, sim.simx_opmode_oneshot)\n",
    "retCode = sim.simxSetJointTargetPosition(clientID, joint1, j1*np.pi/180, sim.simx_opmode_oneshot)\n",
    "retCode = sim.simxSetJointTargetPosition(clientID, joint0, j0*np.pi/180, sim.simx_opmode_oneshot)"
   ]
  },
  {
   "cell_type": "code",
   "execution_count": 437,
   "id": "missing-starter",
   "metadata": {},
   "outputs": [],
   "source": [
    "finish_pos()"
   ]
  },
  {
   "cell_type": "code",
   "execution_count": 438,
   "id": "capable-venezuela",
   "metadata": {},
   "outputs": [],
   "source": [
    "open_grip(tijeras)"
   ]
  },
  {
   "cell_type": "code",
   "execution_count": 439,
   "id": "nasty-brunei",
   "metadata": {},
   "outputs": [],
   "source": [
    "init_pos()"
   ]
  },
  {
   "cell_type": "markdown",
   "id": "alien-yemen",
   "metadata": {},
   "source": [
    "### Buscar jeringuilla"
   ]
  },
  {
   "cell_type": "code",
   "execution_count": 440,
   "id": "dominican-learning",
   "metadata": {},
   "outputs": [],
   "source": [
    "j0, j1, j2, j3, j4 = inverse_kinematics(0.425, -0.042, 0.78, 90, 0)\n",
    "\n",
    "retCode = sim.simxSetJointTargetPosition(clientID, joint4, j4*np.pi/180, sim.simx_opmode_oneshot)\n",
    "retCode = sim.simxSetJointTargetPosition(clientID, joint3, j3*np.pi/180, sim.simx_opmode_oneshot)\n",
    "retCode = sim.simxSetJointTargetPosition(clientID, joint2, j2*np.pi/180, sim.simx_opmode_oneshot)\n",
    "retCode = sim.simxSetJointTargetPosition(clientID, joint1, j1*np.pi/180, sim.simx_opmode_oneshot)\n",
    "retCode = sim.simxSetJointTargetPosition(clientID, joint0, j0*np.pi/180, sim.simx_opmode_oneshot)"
   ]
  },
  {
   "cell_type": "code",
   "execution_count": 441,
   "id": "inside-station",
   "metadata": {},
   "outputs": [],
   "source": [
    "j0, j1, j2, j3, j4 = inverse_kinematics(0.425, -0.042, 0.705, 90, 0)\n",
    "\n",
    "retCode = sim.simxSetJointTargetPosition(clientID, joint4, j4*np.pi/180, sim.simx_opmode_oneshot)\n",
    "retCode = sim.simxSetJointTargetPosition(clientID, joint3, j3*np.pi/180, sim.simx_opmode_oneshot)\n",
    "retCode = sim.simxSetJointTargetPosition(clientID, joint2, j2*np.pi/180, sim.simx_opmode_oneshot)\n",
    "retCode = sim.simxSetJointTargetPosition(clientID, joint1, j1*np.pi/180, sim.simx_opmode_oneshot)\n",
    "retCode = sim.simxSetJointTargetPosition(clientID, joint0, j0*np.pi/180, sim.simx_opmode_oneshot)"
   ]
  },
  {
   "cell_type": "code",
   "execution_count": 442,
   "id": "qualified-individual",
   "metadata": {},
   "outputs": [],
   "source": [
    "close_grip(jeringuilla)"
   ]
  },
  {
   "cell_type": "code",
   "execution_count": 443,
   "id": "finite-surname",
   "metadata": {},
   "outputs": [],
   "source": [
    "j0, j1, j2, j3, j4 = inverse_kinematics(0.425, -0.042, 0.8, 90, 0)\n",
    "\n",
    "retCode = sim.simxSetJointTargetPosition(clientID, joint4, j4*np.pi/180, sim.simx_opmode_oneshot)\n",
    "retCode = sim.simxSetJointTargetPosition(clientID, joint3, j3*np.pi/180, sim.simx_opmode_oneshot)\n",
    "retCode = sim.simxSetJointTargetPosition(clientID, joint2, j2*np.pi/180, sim.simx_opmode_oneshot)\n",
    "retCode = sim.simxSetJointTargetPosition(clientID, joint1, j1*np.pi/180, sim.simx_opmode_oneshot)\n",
    "retCode = sim.simxSetJointTargetPosition(clientID, joint0, j0*np.pi/180, sim.simx_opmode_oneshot)"
   ]
  },
  {
   "cell_type": "code",
   "execution_count": 444,
   "id": "psychological-medication",
   "metadata": {},
   "outputs": [],
   "source": [
    "finish_pos()"
   ]
  },
  {
   "cell_type": "code",
   "execution_count": 445,
   "id": "stainless-groove",
   "metadata": {},
   "outputs": [],
   "source": [
    "open_grip(jeringuilla)"
   ]
  },
  {
   "cell_type": "markdown",
   "id": "dramatic-logistics",
   "metadata": {},
   "source": [
    "### Posición camara -> Posición real"
   ]
  },
  {
   "cell_type": "code",
   "execution_count": 448,
   "id": "incorporated-conditions",
   "metadata": {},
   "outputs": [],
   "source": [
    "init_pos()"
   ]
  },
  {
   "cell_type": "code",
   "execution_count": 449,
   "id": "tamil-emergency",
   "metadata": {},
   "outputs": [
    {
     "name": "stdout",
     "output_type": "stream",
     "text": [
      "  X      Y     AREA   en la imagen \n",
      "495.68 462.55\n",
      "[0.6310001015663147, 0.3619999289512634, 0.7099999785423279]\n",
      "44.125 22.358\n",
      "[0.054000020027160645, -0.2009999305009842, 0.7099999785423279]\n"
     ]
    },
    {
     "data": {
      "image/png": "[encoded data removed]",
      "text/plain": [
       "<Figure size 432x288 with 1 Axes>"
      ]
     },
     "metadata": {
      "needs_background": "light"
     },
     "output_type": "display_data"
    }
   ],
   "source": [
    "retCode, resolution, image=sim.simxGetVisionSensorImage(clientID,camara,0,sim.simx_opmode_oneshot_wait)\n",
    "img=np.array(image,dtype=np.uint8)\n",
    "img.resize([resolution[1],resolution[0],3])\n",
    "detector=cv2.SimpleBlobDetector_create()\n",
    "keypoints=detector.detect(img)\n",
    "imagen_with_keypoints=cv2.drawKeypoints(img,keypoints,np.array([]),(0,0,255),cv2.DRAW_MATCHES_FLAGS_DRAW_RICH_KEYPOINTS)\n",
    "plt.imshow(cv2.cvtColor(imagen_with_keypoints,cv2.COLOR_BGR2RGB))\n",
    "print (\"  X      Y     AREA   en la imagen \")\n",
    "px1 = N(keypoints[0].pt[0],5)\n",
    "py1 = N(keypoints[0].pt[1],5)\n",
    "px2 = N(keypoints[1].pt[0],5)\n",
    "py2 = N(keypoints[1].pt[1],5)\n",
    "returnCode,pos1=sim.simxGetObjectPosition(clientID, cuboid0, -1, sim.simx_opmode_blocking)\n",
    "returnCode,pos2=sim.simxGetObjectPosition(clientID, cuboid, -1, sim.simx_opmode_blocking)\n",
    "print(px1, py1)\n",
    "print(pos1)\n",
    "print(px2, py2)\n",
    "print(pos2)\n"
   ]
  },
  {
   "cell_type": "code",
   "execution_count": 450,
   "id": "opened-sunrise",
   "metadata": {},
   "outputs": [],
   "source": [
    "def transform_xy(x, y):\n",
    "    x_return = (((x-min(px2,px1))/abs(px2-px1)))*(abs(pos1[0]-pos2[0]))+min(pos1[0],pos2[0])\n",
    "    y_return = (((y-min(py2,py1))/abs(py2-py1)))*(abs(pos1[1]-pos2[1]))+min(pos1[1],pos2[1])\n",
    "    return x_return, y_return"
   ]
  },
  {
   "cell_type": "code",
   "execution_count": 451,
   "id": "absent-township",
   "metadata": {},
   "outputs": [
    {
     "name": "stdout",
     "output_type": "stream",
     "text": [
      "0.380956241081662 0.128524138084742\n"
     ]
    }
   ],
   "source": [
    "#Tiene que ir aproximadamente al bisturi\n",
    "x, y =transform_xy(300, 280)\n",
    "print(x,y)\n",
    "j0, j1, j2, j3, j4 = inverse_kinematics(x, y, 0.8, 90, 0)\n",
    "\n",
    "retCode = sim.simxSetJointTargetPosition(clientID, joint4, j4*np.pi/180, sim.simx_opmode_oneshot)\n",
    "retCode = sim.simxSetJointTargetPosition(clientID, joint3, j3*np.pi/180, sim.simx_opmode_oneshot)\n",
    "retCode = sim.simxSetJointTargetPosition(clientID, joint2, j2*np.pi/180, sim.simx_opmode_oneshot)\n",
    "retCode = sim.simxSetJointTargetPosition(clientID, joint1, j1*np.pi/180, sim.simx_opmode_oneshot)\n",
    "retCode = sim.simxSetJointTargetPosition(clientID, joint0, j0*np.pi/180, sim.simx_opmode_oneshot)"
   ]
  },
  {
   "cell_type": "code",
   "execution_count": null,
   "id": "administrative-watershed",
   "metadata": {},
   "outputs": [],
   "source": []
  }
 ],
 "metadata": {
  "kernelspec": {
   "display_name": "Python 3",
   "language": "python",
   "name": "python3"
  },
  "language_info": {
   "codemirror_mode": {
    "name": "ipython",
    "version": 3
   },
   "file_extension": ".py",
   "mimetype": "text/x-python",
   "name": "python",
   "nbconvert_exporter": "python",
   "pygments_lexer": "ipython3",
   "version": "3.7.9"
  }
 },
 "nbformat": 4,
 "nbformat_minor": 5
}
